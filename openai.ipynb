{
 "cells": [
  {
   "cell_type": "markdown",
   "id": "099fc1cf",
   "metadata": {},
   "source": [
    "# Embedding Techniques\n",
    "\n",
    "Here we are converting text into vectors"
   ]
  },
  {
   "cell_type": "code",
   "execution_count": null,
   "id": "98f03d35",
   "metadata": {},
   "outputs": [
    {
     "data": {
      "text/plain": [
       "True"
      ]
     },
     "execution_count": 1,
     "metadata": {},
     "output_type": "execute_result"
    }
   ],
   "source": [
    "import os\n",
    "from dotenv import load_dotenv\n",
    "load_dotenv() #To load all the environment variables"
   ]
  },
  {
   "cell_type": "code",
   "execution_count": null,
   "id": "9e98a89b",
   "metadata": {},
   "outputs": [],
   "source": [
    "os.environ[\"OPENAI_API_KEY\"]=os.getenv(\"OPENAI_API_KEY\")\n"
   ]
  },
  {
   "cell_type": "code",
   "execution_count": null,
   "id": "0e0642f9",
   "metadata": {},
   "outputs": [],
   "source": [
    "from langchain_openai import OpenAIEmbeddings\n",
    "\n",
    "embeddings=OpenAIEmbeddings(model=\"text-embedding-3-large\")\n",
    "embeddings"
   ]
  },
  {
   "cell_type": "code",
   "execution_count": null,
   "id": "bf626beb",
   "metadata": {},
   "outputs": [],
   "source": [
    "text=\"This is a tutorial on OPENAI embedding\"\n",
    "result=embeddings.embed_query(text)\n",
    "result\n",
    "len(result)"
   ]
  },
  {
   "cell_type": "code",
   "execution_count": null,
   "id": "8ff9bd57",
   "metadata": {},
   "outputs": [],
   "source": [
    "embeddings_1024=OpenAIEmbeddings(model=\"text-embedding-3-large\",dimensions=1024)\n"
   ]
  },
  {
   "cell_type": "markdown",
   "id": "73939ec7",
   "metadata": {},
   "source": [
    "Example: taking data-->splitting--->convert to vector-->saving to vector db"
   ]
  },
  {
   "cell_type": "code",
   "execution_count": null,
   "id": "e4ebf04a",
   "metadata": {},
   "outputs": [],
   "source": [
    "from langchain_community.document_loaders import TextLoader\n",
    "\n",
    "loader=TextLoader(\"speech.txt\")\n",
    "docs=loader.load()\n",
    "docs\n",
    "from langchain_text_splitters import CharacterTextSplitter\n",
    "\n",
    "text_splitter=CharacterTextSplitter(separator=\"\\n\",chunk_size=500,chunk_overlap=20)\n",
    "final_documents=text_splitter.split_documents(docs)"
   ]
  },
  {
   "cell_type": "code",
   "execution_count": null,
   "id": "d8dc57f7",
   "metadata": {},
   "outputs": [],
   "source": [
    "#Vector Embedding And Vector StoreDB\n",
    "from langchain_community.vectorstores import Chroma\n",
    "\n",
    "db=Chroma.from_documents(final_documents,embeddings_1024)\n"
   ]
  },
  {
   "cell_type": "code",
   "execution_count": null,
   "id": "603118e3",
   "metadata": {},
   "outputs": [],
   "source": [
    "query=\"It will be all easier for us to conduct \"\n",
    "\n",
    "retrived_result=db.similarity_search(query)\n",
    "print(retrived_result)"
   ]
  }
 ],
 "metadata": {
  "kernelspec": {
   "display_name": "Python 3",
   "language": "python",
   "name": "python3"
  },
  "language_info": {
   "codemirror_mode": {
    "name": "ipython",
    "version": 3
   },
   "file_extension": ".py",
   "mimetype": "text/x-python",
   "name": "python",
   "nbconvert_exporter": "python",
   "pygments_lexer": "ipython3",
   "version": "3.12.0"
  }
 },
 "nbformat": 4,
 "nbformat_minor": 5
}
